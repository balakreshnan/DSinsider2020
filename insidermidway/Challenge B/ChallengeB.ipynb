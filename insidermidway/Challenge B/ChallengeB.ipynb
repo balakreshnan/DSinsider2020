{
 "cells": [
  {
   "cell_type": "code",
   "execution_count": null,
   "metadata": {},
   "outputs": [],
   "source": [
    "pip install fairlearn"
   ]
  },
  {
   "cell_type": "code",
   "execution_count": 3,
   "metadata": {},
   "outputs": [],
   "source": [
    "import pandas as pd"
   ]
  },
  {
   "cell_type": "code",
   "execution_count": 4,
   "metadata": {},
   "outputs": [],
   "source": [
    "df = pd.read_csv('Challenge B Insider_Microsoft_issueDataset.csv') "
   ]
  },
  {
   "cell_type": "code",
   "execution_count": 5,
   "metadata": {},
   "outputs": [
    {
     "data": {
      "text/html": [
       "<div>\n",
       "<style scoped>\n",
       "    .dataframe tbody tr th:only-of-type {\n",
       "        vertical-align: middle;\n",
       "    }\n",
       "\n",
       "    .dataframe tbody tr th {\n",
       "        vertical-align: top;\n",
       "    }\n",
       "\n",
       "    .dataframe thead th {\n",
       "        text-align: right;\n",
       "    }\n",
       "</style>\n",
       "<table border=\"1\" class=\"dataframe\">\n",
       "  <thead>\n",
       "    <tr style=\"text-align: right;\">\n",
       "      <th></th>\n",
       "      <th>Current Evaluation Model of Likelihood to Leave</th>\n",
       "      <th>EmployeeLeft</th>\n",
       "      <th>Hired through SMTP</th>\n",
       "      <th>Marked for PHT Program</th>\n",
       "      <th>Recruiting Location Code</th>\n",
       "      <th>Salary</th>\n",
       "      <th>Survey, Relative, Attitude toward Environment</th>\n",
       "      <th>Survey, Relative, Attitude toward Peers</th>\n",
       "      <th>Survey, Relative, Peer's Average Attitude toward Peers</th>\n",
       "      <th>Survey, Relative, Peer's Average Attitude toward Work/Life Balance</th>\n",
       "      <th>University</th>\n",
       "    </tr>\n",
       "  </thead>\n",
       "  <tbody>\n",
       "    <tr>\n",
       "      <th>0</th>\n",
       "      <td>38.3</td>\n",
       "      <td>1.0</td>\n",
       "      <td>0</td>\n",
       "      <td>1</td>\n",
       "      <td>27999</td>\n",
       "      <td>41675.71</td>\n",
       "      <td>3</td>\n",
       "      <td>5</td>\n",
       "      <td>7</td>\n",
       "      <td>5</td>\n",
       "      <td>St. Norbert College</td>\n",
       "    </tr>\n",
       "    <tr>\n",
       "      <th>1</th>\n",
       "      <td>38.0</td>\n",
       "      <td>1.0</td>\n",
       "      <td>0</td>\n",
       "      <td>0</td>\n",
       "      <td>81996</td>\n",
       "      <td>45810.49</td>\n",
       "      <td>4</td>\n",
       "      <td>3</td>\n",
       "      <td>1</td>\n",
       "      <td>2</td>\n",
       "      <td>St. Norbert College</td>\n",
       "    </tr>\n",
       "    <tr>\n",
       "      <th>2</th>\n",
       "      <td>32.5</td>\n",
       "      <td>0.0</td>\n",
       "      <td>1</td>\n",
       "      <td>1</td>\n",
       "      <td>10000</td>\n",
       "      <td>51701.41</td>\n",
       "      <td>3</td>\n",
       "      <td>1</td>\n",
       "      <td>1</td>\n",
       "      <td>3</td>\n",
       "      <td>St. Norbert College</td>\n",
       "    </tr>\n",
       "    <tr>\n",
       "      <th>3</th>\n",
       "      <td>36.5</td>\n",
       "      <td>0.0</td>\n",
       "      <td>1</td>\n",
       "      <td>1</td>\n",
       "      <td>10000</td>\n",
       "      <td>40169.06</td>\n",
       "      <td>2</td>\n",
       "      <td>8</td>\n",
       "      <td>4</td>\n",
       "      <td>4</td>\n",
       "      <td>Enugu State University of Science and Technology</td>\n",
       "    </tr>\n",
       "    <tr>\n",
       "      <th>4</th>\n",
       "      <td>51.3</td>\n",
       "      <td>1.0</td>\n",
       "      <td>0</td>\n",
       "      <td>0</td>\n",
       "      <td>45998</td>\n",
       "      <td>55204.27</td>\n",
       "      <td>5</td>\n",
       "      <td>2</td>\n",
       "      <td>1</td>\n",
       "      <td>4</td>\n",
       "      <td>St. Norbert College</td>\n",
       "    </tr>\n",
       "    <tr>\n",
       "      <th>...</th>\n",
       "      <td>...</td>\n",
       "      <td>...</td>\n",
       "      <td>...</td>\n",
       "      <td>...</td>\n",
       "      <td>...</td>\n",
       "      <td>...</td>\n",
       "      <td>...</td>\n",
       "      <td>...</td>\n",
       "      <td>...</td>\n",
       "      <td>...</td>\n",
       "      <td>...</td>\n",
       "    </tr>\n",
       "    <tr>\n",
       "      <th>13995</th>\n",
       "      <td>66.4</td>\n",
       "      <td>0.0</td>\n",
       "      <td>1</td>\n",
       "      <td>0</td>\n",
       "      <td>45998</td>\n",
       "      <td>51019.41</td>\n",
       "      <td>5</td>\n",
       "      <td>3</td>\n",
       "      <td>1</td>\n",
       "      <td>1</td>\n",
       "      <td>Nazarene Bible College</td>\n",
       "    </tr>\n",
       "    <tr>\n",
       "      <th>13996</th>\n",
       "      <td>39.7</td>\n",
       "      <td>1.0</td>\n",
       "      <td>1</td>\n",
       "      <td>0</td>\n",
       "      <td>63997</td>\n",
       "      <td>50547.92</td>\n",
       "      <td>5</td>\n",
       "      <td>2</td>\n",
       "      <td>1</td>\n",
       "      <td>4</td>\n",
       "      <td>Enugu State University of Science and Technology</td>\n",
       "    </tr>\n",
       "    <tr>\n",
       "      <th>13997</th>\n",
       "      <td>56.2</td>\n",
       "      <td>1.0</td>\n",
       "      <td>0</td>\n",
       "      <td>1</td>\n",
       "      <td>10000</td>\n",
       "      <td>48895.86</td>\n",
       "      <td>5</td>\n",
       "      <td>7</td>\n",
       "      <td>1</td>\n",
       "      <td>3</td>\n",
       "      <td>Nazarene Bible College</td>\n",
       "    </tr>\n",
       "    <tr>\n",
       "      <th>13998</th>\n",
       "      <td>41.7</td>\n",
       "      <td>1.0</td>\n",
       "      <td>0</td>\n",
       "      <td>1</td>\n",
       "      <td>63997</td>\n",
       "      <td>49234.60</td>\n",
       "      <td>5</td>\n",
       "      <td>3</td>\n",
       "      <td>1</td>\n",
       "      <td>3</td>\n",
       "      <td>COMSATS Institute of Information Technology</td>\n",
       "    </tr>\n",
       "    <tr>\n",
       "      <th>13999</th>\n",
       "      <td>43.8</td>\n",
       "      <td>0.0</td>\n",
       "      <td>1</td>\n",
       "      <td>0</td>\n",
       "      <td>45998</td>\n",
       "      <td>48146.47</td>\n",
       "      <td>3</td>\n",
       "      <td>3</td>\n",
       "      <td>1</td>\n",
       "      <td>3</td>\n",
       "      <td>NHTV Breda University of Professional Education</td>\n",
       "    </tr>\n",
       "  </tbody>\n",
       "</table>\n",
       "<p>14000 rows × 11 columns</p>\n",
       "</div>"
      ],
      "text/plain": [
       "       Current Evaluation Model of Likelihood to Leave  EmployeeLeft  \\\n",
       "0                                                 38.3           1.0   \n",
       "1                                                 38.0           1.0   \n",
       "2                                                 32.5           0.0   \n",
       "3                                                 36.5           0.0   \n",
       "4                                                 51.3           1.0   \n",
       "...                                                ...           ...   \n",
       "13995                                             66.4           0.0   \n",
       "13996                                             39.7           1.0   \n",
       "13997                                             56.2           1.0   \n",
       "13998                                             41.7           1.0   \n",
       "13999                                             43.8           0.0   \n",
       "\n",
       "       Hired through SMTP  Marked for PHT Program  Recruiting Location Code  \\\n",
       "0                       0                       1                     27999   \n",
       "1                       0                       0                     81996   \n",
       "2                       1                       1                     10000   \n",
       "3                       1                       1                     10000   \n",
       "4                       0                       0                     45998   \n",
       "...                   ...                     ...                       ...   \n",
       "13995                   1                       0                     45998   \n",
       "13996                   1                       0                     63997   \n",
       "13997                   0                       1                     10000   \n",
       "13998                   0                       1                     63997   \n",
       "13999                   1                       0                     45998   \n",
       "\n",
       "         Salary  Survey, Relative, Attitude toward Environment  \\\n",
       "0      41675.71                                              3   \n",
       "1      45810.49                                              4   \n",
       "2      51701.41                                              3   \n",
       "3      40169.06                                              2   \n",
       "4      55204.27                                              5   \n",
       "...         ...                                            ...   \n",
       "13995  51019.41                                              5   \n",
       "13996  50547.92                                              5   \n",
       "13997  48895.86                                              5   \n",
       "13998  49234.60                                              5   \n",
       "13999  48146.47                                              3   \n",
       "\n",
       "       Survey, Relative, Attitude toward Peers  \\\n",
       "0                                            5   \n",
       "1                                            3   \n",
       "2                                            1   \n",
       "3                                            8   \n",
       "4                                            2   \n",
       "...                                        ...   \n",
       "13995                                        3   \n",
       "13996                                        2   \n",
       "13997                                        7   \n",
       "13998                                        3   \n",
       "13999                                        3   \n",
       "\n",
       "       Survey, Relative, Peer's Average Attitude toward Peers  \\\n",
       "0                                                      7        \n",
       "1                                                      1        \n",
       "2                                                      1        \n",
       "3                                                      4        \n",
       "4                                                      1        \n",
       "...                                                  ...        \n",
       "13995                                                  1        \n",
       "13996                                                  1        \n",
       "13997                                                  1        \n",
       "13998                                                  1        \n",
       "13999                                                  1        \n",
       "\n",
       "       Survey, Relative, Peer's Average Attitude toward Work/Life Balance  \\\n",
       "0                                                      5                    \n",
       "1                                                      2                    \n",
       "2                                                      3                    \n",
       "3                                                      4                    \n",
       "4                                                      4                    \n",
       "...                                                  ...                    \n",
       "13995                                                  1                    \n",
       "13996                                                  4                    \n",
       "13997                                                  3                    \n",
       "13998                                                  3                    \n",
       "13999                                                  3                    \n",
       "\n",
       "                                             University  \n",
       "0                                   St. Norbert College  \n",
       "1                                   St. Norbert College  \n",
       "2                                   St. Norbert College  \n",
       "3      Enugu State University of Science and Technology  \n",
       "4                                   St. Norbert College  \n",
       "...                                                 ...  \n",
       "13995                            Nazarene Bible College  \n",
       "13996  Enugu State University of Science and Technology  \n",
       "13997                            Nazarene Bible College  \n",
       "13998       COMSATS Institute of Information Technology  \n",
       "13999   NHTV Breda University of Professional Education  \n",
       "\n",
       "[14000 rows x 11 columns]"
      ]
     },
     "execution_count": 5,
     "metadata": {},
     "output_type": "execute_result"
    }
   ],
   "source": [
    "df"
   ]
  },
  {
   "cell_type": "code",
   "execution_count": 6,
   "metadata": {},
   "outputs": [
    {
     "data": {
      "text/plain": [
       "Index(['Current Evaluation Model of Likelihood to Leave', 'EmployeeLeft',\n",
       "       'Hired through SMTP', 'Marked for PHT Program',\n",
       "       'Recruiting Location Code', 'Salary',\n",
       "       'Survey, Relative, Attitude toward Environment',\n",
       "       'Survey, Relative, Attitude toward Peers',\n",
       "       'Survey, Relative, Peer's Average Attitude toward Peers',\n",
       "       'Survey, Relative, Peer's Average Attitude toward Work/Life Balance',\n",
       "       'University'],\n",
       "      dtype='object')"
      ]
     },
     "execution_count": 6,
     "metadata": {},
     "output_type": "execute_result"
    }
   ],
   "source": [
    "df.columns"
   ]
  },
  {
   "cell_type": "code",
   "execution_count": 7,
   "metadata": {},
   "outputs": [
    {
     "data": {
      "text/plain": [
       "Current Evaluation Model of Likelihood to Leave                          37.300\n",
       "EmployeeLeft                                                              0.000\n",
       "Hired through SMTP                                                        0.000\n",
       "Marked for PHT Program                                                    1.000\n",
       "Recruiting Location Code                                              45998.000\n",
       "Salary                                                                47593.515\n",
       "Survey, Relative, Attitude toward Environment                             4.000\n",
       "Survey, Relative, Attitude toward Peers                                   4.000\n",
       "Survey, Relative, Peer's Average Attitude toward Peers                    2.000\n",
       "Survey, Relative, Peer's Average Attitude toward Work/Life Balance        2.000\n",
       "dtype: float64"
      ]
     },
     "execution_count": 7,
     "metadata": {},
     "output_type": "execute_result"
    }
   ],
   "source": [
    "df.median()"
   ]
  },
  {
   "cell_type": "code",
   "execution_count": 8,
   "metadata": {},
   "outputs": [
    {
     "data": {
      "text/html": [
       "<div>\n",
       "<style scoped>\n",
       "    .dataframe tbody tr th:only-of-type {\n",
       "        vertical-align: middle;\n",
       "    }\n",
       "\n",
       "    .dataframe tbody tr th {\n",
       "        vertical-align: top;\n",
       "    }\n",
       "\n",
       "    .dataframe thead th {\n",
       "        text-align: right;\n",
       "    }\n",
       "</style>\n",
       "<table border=\"1\" class=\"dataframe\">\n",
       "  <thead>\n",
       "    <tr style=\"text-align: right;\">\n",
       "      <th></th>\n",
       "      <th>Current Evaluation Model of Likelihood to Leave</th>\n",
       "      <th>EmployeeLeft</th>\n",
       "      <th>Hired through SMTP</th>\n",
       "      <th>Marked for PHT Program</th>\n",
       "      <th>Recruiting Location Code</th>\n",
       "      <th>Salary</th>\n",
       "      <th>Survey, Relative, Attitude toward Environment</th>\n",
       "      <th>Survey, Relative, Attitude toward Peers</th>\n",
       "      <th>Survey, Relative, Peer's Average Attitude toward Peers</th>\n",
       "      <th>Survey, Relative, Peer's Average Attitude toward Work/Life Balance</th>\n",
       "    </tr>\n",
       "  </thead>\n",
       "  <tbody>\n",
       "    <tr>\n",
       "      <th>count</th>\n",
       "      <td>14000.000000</td>\n",
       "      <td>14000.000000</td>\n",
       "      <td>14000.000000</td>\n",
       "      <td>14000.000000</td>\n",
       "      <td>14000.000000</td>\n",
       "      <td>14000.000000</td>\n",
       "      <td>14000.000000</td>\n",
       "      <td>14000.000000</td>\n",
       "      <td>14000.000000</td>\n",
       "      <td>14000.000000</td>\n",
       "    </tr>\n",
       "    <tr>\n",
       "      <th>mean</th>\n",
       "      <td>37.283764</td>\n",
       "      <td>0.439000</td>\n",
       "      <td>0.498571</td>\n",
       "      <td>0.503357</td>\n",
       "      <td>52787.479929</td>\n",
       "      <td>48850.571995</td>\n",
       "      <td>3.760500</td>\n",
       "      <td>4.081143</td>\n",
       "      <td>2.702429</td>\n",
       "      <td>2.459571</td>\n",
       "    </tr>\n",
       "    <tr>\n",
       "      <th>std</th>\n",
       "      <td>10.523159</td>\n",
       "      <td>0.496283</td>\n",
       "      <td>0.500016</td>\n",
       "      <td>0.500007</td>\n",
       "      <td>24213.620764</td>\n",
       "      <td>5869.342714</td>\n",
       "      <td>1.275079</td>\n",
       "      <td>1.898522</td>\n",
       "      <td>1.862866</td>\n",
       "      <td>1.228257</td>\n",
       "    </tr>\n",
       "    <tr>\n",
       "      <th>min</th>\n",
       "      <td>1.000000</td>\n",
       "      <td>0.000000</td>\n",
       "      <td>0.000000</td>\n",
       "      <td>0.000000</td>\n",
       "      <td>10000.000000</td>\n",
       "      <td>40000.000000</td>\n",
       "      <td>1.000000</td>\n",
       "      <td>1.000000</td>\n",
       "      <td>1.000000</td>\n",
       "      <td>1.000000</td>\n",
       "    </tr>\n",
       "    <tr>\n",
       "      <th>25%</th>\n",
       "      <td>30.300000</td>\n",
       "      <td>0.000000</td>\n",
       "      <td>0.000000</td>\n",
       "      <td>0.000000</td>\n",
       "      <td>27999.000000</td>\n",
       "      <td>44579.760000</td>\n",
       "      <td>3.000000</td>\n",
       "      <td>3.000000</td>\n",
       "      <td>1.000000</td>\n",
       "      <td>1.000000</td>\n",
       "    </tr>\n",
       "    <tr>\n",
       "      <th>50%</th>\n",
       "      <td>37.300000</td>\n",
       "      <td>0.000000</td>\n",
       "      <td>0.000000</td>\n",
       "      <td>1.000000</td>\n",
       "      <td>45998.000000</td>\n",
       "      <td>47593.515000</td>\n",
       "      <td>4.000000</td>\n",
       "      <td>4.000000</td>\n",
       "      <td>2.000000</td>\n",
       "      <td>2.000000</td>\n",
       "    </tr>\n",
       "    <tr>\n",
       "      <th>75%</th>\n",
       "      <td>44.300000</td>\n",
       "      <td>1.000000</td>\n",
       "      <td>1.000000</td>\n",
       "      <td>1.000000</td>\n",
       "      <td>81996.000000</td>\n",
       "      <td>51870.020000</td>\n",
       "      <td>5.000000</td>\n",
       "      <td>5.000000</td>\n",
       "      <td>4.000000</td>\n",
       "      <td>3.000000</td>\n",
       "    </tr>\n",
       "    <tr>\n",
       "      <th>max</th>\n",
       "      <td>79.000000</td>\n",
       "      <td>1.000000</td>\n",
       "      <td>1.000000</td>\n",
       "      <td>1.000000</td>\n",
       "      <td>81996.000000</td>\n",
       "      <td>89999.000000</td>\n",
       "      <td>5.000000</td>\n",
       "      <td>8.000000</td>\n",
       "      <td>7.000000</td>\n",
       "      <td>5.000000</td>\n",
       "    </tr>\n",
       "  </tbody>\n",
       "</table>\n",
       "</div>"
      ],
      "text/plain": [
       "       Current Evaluation Model of Likelihood to Leave  EmployeeLeft  \\\n",
       "count                                     14000.000000  14000.000000   \n",
       "mean                                         37.283764      0.439000   \n",
       "std                                          10.523159      0.496283   \n",
       "min                                           1.000000      0.000000   \n",
       "25%                                          30.300000      0.000000   \n",
       "50%                                          37.300000      0.000000   \n",
       "75%                                          44.300000      1.000000   \n",
       "max                                          79.000000      1.000000   \n",
       "\n",
       "       Hired through SMTP  Marked for PHT Program  Recruiting Location Code  \\\n",
       "count        14000.000000            14000.000000              14000.000000   \n",
       "mean             0.498571                0.503357              52787.479929   \n",
       "std              0.500016                0.500007              24213.620764   \n",
       "min              0.000000                0.000000              10000.000000   \n",
       "25%              0.000000                0.000000              27999.000000   \n",
       "50%              0.000000                1.000000              45998.000000   \n",
       "75%              1.000000                1.000000              81996.000000   \n",
       "max              1.000000                1.000000              81996.000000   \n",
       "\n",
       "             Salary  Survey, Relative, Attitude toward Environment  \\\n",
       "count  14000.000000                                   14000.000000   \n",
       "mean   48850.571995                                       3.760500   \n",
       "std     5869.342714                                       1.275079   \n",
       "min    40000.000000                                       1.000000   \n",
       "25%    44579.760000                                       3.000000   \n",
       "50%    47593.515000                                       4.000000   \n",
       "75%    51870.020000                                       5.000000   \n",
       "max    89999.000000                                       5.000000   \n",
       "\n",
       "       Survey, Relative, Attitude toward Peers  \\\n",
       "count                             14000.000000   \n",
       "mean                                  4.081143   \n",
       "std                                   1.898522   \n",
       "min                                   1.000000   \n",
       "25%                                   3.000000   \n",
       "50%                                   4.000000   \n",
       "75%                                   5.000000   \n",
       "max                                   8.000000   \n",
       "\n",
       "       Survey, Relative, Peer's Average Attitude toward Peers  \\\n",
       "count                                       14000.000000        \n",
       "mean                                            2.702429        \n",
       "std                                             1.862866        \n",
       "min                                             1.000000        \n",
       "25%                                             1.000000        \n",
       "50%                                             2.000000        \n",
       "75%                                             4.000000        \n",
       "max                                             7.000000        \n",
       "\n",
       "       Survey, Relative, Peer's Average Attitude toward Work/Life Balance  \n",
       "count                                       14000.000000                   \n",
       "mean                                            2.459571                   \n",
       "std                                             1.228257                   \n",
       "min                                             1.000000                   \n",
       "25%                                             1.000000                   \n",
       "50%                                             2.000000                   \n",
       "75%                                             3.000000                   \n",
       "max                                             5.000000                   "
      ]
     },
     "execution_count": 8,
     "metadata": {},
     "output_type": "execute_result"
    }
   ],
   "source": [
    "df.describe()"
   ]
  },
  {
   "cell_type": "code",
   "execution_count": 9,
   "metadata": {},
   "outputs": [
    {
     "data": {
      "text/html": [
       "<div>\n",
       "<style scoped>\n",
       "    .dataframe tbody tr th:only-of-type {\n",
       "        vertical-align: middle;\n",
       "    }\n",
       "\n",
       "    .dataframe tbody tr th {\n",
       "        vertical-align: top;\n",
       "    }\n",
       "\n",
       "    .dataframe thead th {\n",
       "        text-align: right;\n",
       "    }\n",
       "</style>\n",
       "<table border=\"1\" class=\"dataframe\">\n",
       "  <thead>\n",
       "    <tr style=\"text-align: right;\">\n",
       "      <th></th>\n",
       "      <th>Survey, Relative, Attitude toward Environment</th>\n",
       "      <th>Salary</th>\n",
       "    </tr>\n",
       "  </thead>\n",
       "  <tbody>\n",
       "    <tr>\n",
       "      <th>max</th>\n",
       "      <td>5.000000</td>\n",
       "      <td>89999.000000</td>\n",
       "    </tr>\n",
       "    <tr>\n",
       "      <th>mean</th>\n",
       "      <td>NaN</td>\n",
       "      <td>48850.571995</td>\n",
       "    </tr>\n",
       "    <tr>\n",
       "      <th>median</th>\n",
       "      <td>4.000000</td>\n",
       "      <td>47593.515000</td>\n",
       "    </tr>\n",
       "    <tr>\n",
       "      <th>min</th>\n",
       "      <td>1.000000</td>\n",
       "      <td>40000.000000</td>\n",
       "    </tr>\n",
       "    <tr>\n",
       "      <th>skew</th>\n",
       "      <td>-0.608191</td>\n",
       "      <td>NaN</td>\n",
       "    </tr>\n",
       "  </tbody>\n",
       "</table>\n",
       "</div>"
      ],
      "text/plain": [
       "        Survey, Relative, Attitude toward Environment        Salary\n",
       "max                                          5.000000  89999.000000\n",
       "mean                                              NaN  48850.571995\n",
       "median                                       4.000000  47593.515000\n",
       "min                                          1.000000  40000.000000\n",
       "skew                                        -0.608191           NaN"
      ]
     },
     "execution_count": 9,
     "metadata": {},
     "output_type": "execute_result"
    }
   ],
   "source": [
    "df.agg({'Survey, Relative, Attitude toward Environment': ['min', 'max', 'median', 'skew'],\n",
    "        'Salary': ['min', 'max', 'median', 'mean']})"
   ]
  },
  {
   "cell_type": "code",
   "execution_count": 10,
   "metadata": {},
   "outputs": [
    {
     "data": {
      "text/html": [
       "<div>\n",
       "<style scoped>\n",
       "    .dataframe tbody tr th:only-of-type {\n",
       "        vertical-align: middle;\n",
       "    }\n",
       "\n",
       "    .dataframe tbody tr th {\n",
       "        vertical-align: top;\n",
       "    }\n",
       "\n",
       "    .dataframe thead th {\n",
       "        text-align: right;\n",
       "    }\n",
       "</style>\n",
       "<table border=\"1\" class=\"dataframe\">\n",
       "  <thead>\n",
       "    <tr style=\"text-align: right;\">\n",
       "      <th></th>\n",
       "      <th>Salary</th>\n",
       "      <th>Survey, Relative, Attitude toward Environment</th>\n",
       "    </tr>\n",
       "    <tr>\n",
       "      <th>Recruiting Location Code</th>\n",
       "      <th></th>\n",
       "      <th></th>\n",
       "    </tr>\n",
       "  </thead>\n",
       "  <tbody>\n",
       "    <tr>\n",
       "      <th>10000</th>\n",
       "      <td>48632.998480</td>\n",
       "      <td>3.770909</td>\n",
       "    </tr>\n",
       "    <tr>\n",
       "      <th>27999</th>\n",
       "      <td>48915.959135</td>\n",
       "      <td>3.733738</td>\n",
       "    </tr>\n",
       "    <tr>\n",
       "      <th>45998</th>\n",
       "      <td>48980.986730</td>\n",
       "      <td>3.769529</td>\n",
       "    </tr>\n",
       "    <tr>\n",
       "      <th>63997</th>\n",
       "      <td>48882.548615</td>\n",
       "      <td>3.756942</td>\n",
       "    </tr>\n",
       "    <tr>\n",
       "      <th>81996</th>\n",
       "      <td>48759.869307</td>\n",
       "      <td>3.770732</td>\n",
       "    </tr>\n",
       "  </tbody>\n",
       "</table>\n",
       "</div>"
      ],
      "text/plain": [
       "                                Salary  \\\n",
       "Recruiting Location Code                 \n",
       "10000                     48632.998480   \n",
       "27999                     48915.959135   \n",
       "45998                     48980.986730   \n",
       "63997                     48882.548615   \n",
       "81996                     48759.869307   \n",
       "\n",
       "                          Survey, Relative, Attitude toward Environment  \n",
       "Recruiting Location Code                                                 \n",
       "10000                                                          3.770909  \n",
       "27999                                                          3.733738  \n",
       "45998                                                          3.769529  \n",
       "63997                                                          3.756942  \n",
       "81996                                                          3.770732  "
      ]
     },
     "execution_count": 10,
     "metadata": {},
     "output_type": "execute_result"
    }
   ],
   "source": [
    "df[[\"Recruiting Location Code\", \"Salary\", \"Survey, Relative, Attitude toward Environment\"]].groupby(\"Recruiting Location Code\").mean()"
   ]
  },
  {
   "cell_type": "code",
   "execution_count": 11,
   "metadata": {},
   "outputs": [
    {
     "data": {
      "text/html": [
       "<div>\n",
       "<style scoped>\n",
       "    .dataframe tbody tr th:only-of-type {\n",
       "        vertical-align: middle;\n",
       "    }\n",
       "\n",
       "    .dataframe tbody tr th {\n",
       "        vertical-align: top;\n",
       "    }\n",
       "\n",
       "    .dataframe thead th {\n",
       "        text-align: right;\n",
       "    }\n",
       "</style>\n",
       "<table border=\"1\" class=\"dataframe\">\n",
       "  <thead>\n",
       "    <tr style=\"text-align: right;\">\n",
       "      <th></th>\n",
       "      <th>Current Evaluation Model of Likelihood to Leave</th>\n",
       "      <th>EmployeeLeft</th>\n",
       "      <th>Hired through SMTP</th>\n",
       "      <th>Marked for PHT Program</th>\n",
       "      <th>Salary</th>\n",
       "      <th>Survey, Relative, Attitude toward Environment</th>\n",
       "      <th>Survey, Relative, Attitude toward Peers</th>\n",
       "      <th>Survey, Relative, Peer's Average Attitude toward Peers</th>\n",
       "      <th>Survey, Relative, Peer's Average Attitude toward Work/Life Balance</th>\n",
       "    </tr>\n",
       "    <tr>\n",
       "      <th>Recruiting Location Code</th>\n",
       "      <th></th>\n",
       "      <th></th>\n",
       "      <th></th>\n",
       "      <th></th>\n",
       "      <th></th>\n",
       "      <th></th>\n",
       "      <th></th>\n",
       "      <th></th>\n",
       "      <th></th>\n",
       "    </tr>\n",
       "  </thead>\n",
       "  <tbody>\n",
       "    <tr>\n",
       "      <th>10000</th>\n",
       "      <td>37.202764</td>\n",
       "      <td>0.435636</td>\n",
       "      <td>0.509091</td>\n",
       "      <td>0.513455</td>\n",
       "      <td>48632.998480</td>\n",
       "      <td>3.770909</td>\n",
       "      <td>4.077091</td>\n",
       "      <td>2.636364</td>\n",
       "      <td>2.426909</td>\n",
       "    </tr>\n",
       "    <tr>\n",
       "      <th>27999</th>\n",
       "      <td>37.057827</td>\n",
       "      <td>0.431737</td>\n",
       "      <td>0.499285</td>\n",
       "      <td>0.506076</td>\n",
       "      <td>48915.959135</td>\n",
       "      <td>3.733738</td>\n",
       "      <td>4.122588</td>\n",
       "      <td>2.664403</td>\n",
       "      <td>2.441387</td>\n",
       "    </tr>\n",
       "    <tr>\n",
       "      <th>45998</th>\n",
       "      <td>37.280407</td>\n",
       "      <td>0.443189</td>\n",
       "      <td>0.500968</td>\n",
       "      <td>0.495804</td>\n",
       "      <td>48980.986730</td>\n",
       "      <td>3.769529</td>\n",
       "      <td>4.011298</td>\n",
       "      <td>2.697870</td>\n",
       "      <td>2.481924</td>\n",
       "    </tr>\n",
       "    <tr>\n",
       "      <th>63997</th>\n",
       "      <td>37.322100</td>\n",
       "      <td>0.431343</td>\n",
       "      <td>0.494104</td>\n",
       "      <td>0.512742</td>\n",
       "      <td>48882.548615</td>\n",
       "      <td>3.756942</td>\n",
       "      <td>4.138836</td>\n",
       "      <td>2.718144</td>\n",
       "      <td>2.454165</td>\n",
       "    </tr>\n",
       "    <tr>\n",
       "      <th>81996</th>\n",
       "      <td>37.443073</td>\n",
       "      <td>0.446829</td>\n",
       "      <td>0.495610</td>\n",
       "      <td>0.497805</td>\n",
       "      <td>48759.869307</td>\n",
       "      <td>3.770732</td>\n",
       "      <td>4.070000</td>\n",
       "      <td>2.743902</td>\n",
       "      <td>2.469512</td>\n",
       "    </tr>\n",
       "  </tbody>\n",
       "</table>\n",
       "</div>"
      ],
      "text/plain": [
       "                          Current Evaluation Model of Likelihood to Leave  \\\n",
       "Recruiting Location Code                                                    \n",
       "10000                                                           37.202764   \n",
       "27999                                                           37.057827   \n",
       "45998                                                           37.280407   \n",
       "63997                                                           37.322100   \n",
       "81996                                                           37.443073   \n",
       "\n",
       "                          EmployeeLeft  Hired through SMTP  \\\n",
       "Recruiting Location Code                                     \n",
       "10000                         0.435636            0.509091   \n",
       "27999                         0.431737            0.499285   \n",
       "45998                         0.443189            0.500968   \n",
       "63997                         0.431343            0.494104   \n",
       "81996                         0.446829            0.495610   \n",
       "\n",
       "                          Marked for PHT Program        Salary  \\\n",
       "Recruiting Location Code                                         \n",
       "10000                                   0.513455  48632.998480   \n",
       "27999                                   0.506076  48915.959135   \n",
       "45998                                   0.495804  48980.986730   \n",
       "63997                                   0.512742  48882.548615   \n",
       "81996                                   0.497805  48759.869307   \n",
       "\n",
       "                          Survey, Relative, Attitude toward Environment  \\\n",
       "Recruiting Location Code                                                  \n",
       "10000                                                          3.770909   \n",
       "27999                                                          3.733738   \n",
       "45998                                                          3.769529   \n",
       "63997                                                          3.756942   \n",
       "81996                                                          3.770732   \n",
       "\n",
       "                          Survey, Relative, Attitude toward Peers  \\\n",
       "Recruiting Location Code                                            \n",
       "10000                                                    4.077091   \n",
       "27999                                                    4.122588   \n",
       "45998                                                    4.011298   \n",
       "63997                                                    4.138836   \n",
       "81996                                                    4.070000   \n",
       "\n",
       "                          Survey, Relative, Peer's Average Attitude toward Peers  \\\n",
       "Recruiting Location Code                                                           \n",
       "10000                                                              2.636364        \n",
       "27999                                                              2.664403        \n",
       "45998                                                              2.697870        \n",
       "63997                                                              2.718144        \n",
       "81996                                                              2.743902        \n",
       "\n",
       "                          Survey, Relative, Peer's Average Attitude toward Work/Life Balance  \n",
       "Recruiting Location Code                                                                      \n",
       "10000                                                              2.426909                   \n",
       "27999                                                              2.441387                   \n",
       "45998                                                              2.481924                   \n",
       "63997                                                              2.454165                   \n",
       "81996                                                              2.469512                   "
      ]
     },
     "execution_count": 11,
     "metadata": {},
     "output_type": "execute_result"
    }
   ],
   "source": [
    "df.groupby(\"Recruiting Location Code\").mean()"
   ]
  },
  {
   "cell_type": "code",
   "execution_count": 12,
   "metadata": {},
   "outputs": [
    {
     "data": {
      "text/plain": [
       "Recruiting Location Code\n",
       "10000    48632.998480\n",
       "27999    48915.959135\n",
       "45998    48980.986730\n",
       "63997    48882.548615\n",
       "81996    48759.869307\n",
       "Name: Salary, dtype: float64"
      ]
     },
     "execution_count": 12,
     "metadata": {},
     "output_type": "execute_result"
    }
   ],
   "source": [
    "df.groupby(\"Recruiting Location Code\")[\"Salary\"].mean()"
   ]
  },
  {
   "cell_type": "code",
   "execution_count": 13,
   "metadata": {},
   "outputs": [
    {
     "data": {
      "text/plain": [
       "81996    4100\n",
       "45998    3098\n",
       "27999    2798\n",
       "63997    2629\n",
       "10000    1375\n",
       "Name: Recruiting Location Code, dtype: int64"
      ]
     },
     "execution_count": 13,
     "metadata": {},
     "output_type": "execute_result"
    }
   ],
   "source": [
    "df[\"Recruiting Location Code\"].value_counts()"
   ]
  },
  {
   "cell_type": "code",
   "execution_count": 14,
   "metadata": {},
   "outputs": [
    {
     "data": {
      "text/plain": [
       "52053.76    2\n",
       "42053.16    2\n",
       "52274.60    2\n",
       "44287.04    2\n",
       "43273.68    2\n",
       "           ..\n",
       "53296.66    1\n",
       "46508.58    1\n",
       "54853.41    1\n",
       "45706.51    1\n",
       "45281.34    1\n",
       "Name: Salary, Length: 13948, dtype: int64"
      ]
     },
     "execution_count": 14,
     "metadata": {},
     "output_type": "execute_result"
    }
   ],
   "source": [
    "df[\"Salary\"].value_counts()"
   ]
  },
  {
   "cell_type": "code",
   "execution_count": 15,
   "metadata": {},
   "outputs": [],
   "source": [
    "import sklearn as sk"
   ]
  },
  {
   "cell_type": "code",
   "execution_count": 16,
   "metadata": {},
   "outputs": [],
   "source": [
    "from sklearn.preprocessing import LabelEncoder, OneHotEncoder"
   ]
  },
  {
   "cell_type": "code",
   "execution_count": 17,
   "metadata": {},
   "outputs": [],
   "source": [
    "df['University'] = df['University'].astype('category')\n",
    "#df['Email Domain'] = df['Email Domain'].astype('category')\n",
    "df = pd.get_dummies(df)"
   ]
  },
  {
   "cell_type": "code",
   "execution_count": 18,
   "metadata": {},
   "outputs": [
    {
     "data": {
      "text/html": [
       "<div>\n",
       "<style scoped>\n",
       "    .dataframe tbody tr th:only-of-type {\n",
       "        vertical-align: middle;\n",
       "    }\n",
       "\n",
       "    .dataframe tbody tr th {\n",
       "        vertical-align: top;\n",
       "    }\n",
       "\n",
       "    .dataframe thead th {\n",
       "        text-align: right;\n",
       "    }\n",
       "</style>\n",
       "<table border=\"1\" class=\"dataframe\">\n",
       "  <thead>\n",
       "    <tr style=\"text-align: right;\">\n",
       "      <th></th>\n",
       "      <th>Current Evaluation Model of Likelihood to Leave</th>\n",
       "      <th>EmployeeLeft</th>\n",
       "      <th>Hired through SMTP</th>\n",
       "      <th>Marked for PHT Program</th>\n",
       "      <th>Recruiting Location Code</th>\n",
       "      <th>Salary</th>\n",
       "      <th>Survey, Relative, Attitude toward Environment</th>\n",
       "      <th>Survey, Relative, Attitude toward Peers</th>\n",
       "      <th>Survey, Relative, Peer's Average Attitude toward Peers</th>\n",
       "      <th>Survey, Relative, Peer's Average Attitude toward Work/Life Balance</th>\n",
       "      <th>University_COMSATS Institute of Information Technology</th>\n",
       "      <th>University_Enugu State University of Science and Technology</th>\n",
       "      <th>University_NHTV Breda University of Professional Education</th>\n",
       "      <th>University_Nazarene Bible College</th>\n",
       "      <th>University_St. Norbert College</th>\n",
       "      <th>University_Université de Corse Pascal Paoli</th>\n",
       "    </tr>\n",
       "  </thead>\n",
       "  <tbody>\n",
       "    <tr>\n",
       "      <th>0</th>\n",
       "      <td>38.3</td>\n",
       "      <td>1.0</td>\n",
       "      <td>0</td>\n",
       "      <td>1</td>\n",
       "      <td>27999</td>\n",
       "      <td>41675.71</td>\n",
       "      <td>3</td>\n",
       "      <td>5</td>\n",
       "      <td>7</td>\n",
       "      <td>5</td>\n",
       "      <td>0</td>\n",
       "      <td>0</td>\n",
       "      <td>0</td>\n",
       "      <td>0</td>\n",
       "      <td>1</td>\n",
       "      <td>0</td>\n",
       "    </tr>\n",
       "    <tr>\n",
       "      <th>1</th>\n",
       "      <td>38.0</td>\n",
       "      <td>1.0</td>\n",
       "      <td>0</td>\n",
       "      <td>0</td>\n",
       "      <td>81996</td>\n",
       "      <td>45810.49</td>\n",
       "      <td>4</td>\n",
       "      <td>3</td>\n",
       "      <td>1</td>\n",
       "      <td>2</td>\n",
       "      <td>0</td>\n",
       "      <td>0</td>\n",
       "      <td>0</td>\n",
       "      <td>0</td>\n",
       "      <td>1</td>\n",
       "      <td>0</td>\n",
       "    </tr>\n",
       "    <tr>\n",
       "      <th>2</th>\n",
       "      <td>32.5</td>\n",
       "      <td>0.0</td>\n",
       "      <td>1</td>\n",
       "      <td>1</td>\n",
       "      <td>10000</td>\n",
       "      <td>51701.41</td>\n",
       "      <td>3</td>\n",
       "      <td>1</td>\n",
       "      <td>1</td>\n",
       "      <td>3</td>\n",
       "      <td>0</td>\n",
       "      <td>0</td>\n",
       "      <td>0</td>\n",
       "      <td>0</td>\n",
       "      <td>1</td>\n",
       "      <td>0</td>\n",
       "    </tr>\n",
       "    <tr>\n",
       "      <th>3</th>\n",
       "      <td>36.5</td>\n",
       "      <td>0.0</td>\n",
       "      <td>1</td>\n",
       "      <td>1</td>\n",
       "      <td>10000</td>\n",
       "      <td>40169.06</td>\n",
       "      <td>2</td>\n",
       "      <td>8</td>\n",
       "      <td>4</td>\n",
       "      <td>4</td>\n",
       "      <td>0</td>\n",
       "      <td>1</td>\n",
       "      <td>0</td>\n",
       "      <td>0</td>\n",
       "      <td>0</td>\n",
       "      <td>0</td>\n",
       "    </tr>\n",
       "    <tr>\n",
       "      <th>4</th>\n",
       "      <td>51.3</td>\n",
       "      <td>1.0</td>\n",
       "      <td>0</td>\n",
       "      <td>0</td>\n",
       "      <td>45998</td>\n",
       "      <td>55204.27</td>\n",
       "      <td>5</td>\n",
       "      <td>2</td>\n",
       "      <td>1</td>\n",
       "      <td>4</td>\n",
       "      <td>0</td>\n",
       "      <td>0</td>\n",
       "      <td>0</td>\n",
       "      <td>0</td>\n",
       "      <td>1</td>\n",
       "      <td>0</td>\n",
       "    </tr>\n",
       "    <tr>\n",
       "      <th>...</th>\n",
       "      <td>...</td>\n",
       "      <td>...</td>\n",
       "      <td>...</td>\n",
       "      <td>...</td>\n",
       "      <td>...</td>\n",
       "      <td>...</td>\n",
       "      <td>...</td>\n",
       "      <td>...</td>\n",
       "      <td>...</td>\n",
       "      <td>...</td>\n",
       "      <td>...</td>\n",
       "      <td>...</td>\n",
       "      <td>...</td>\n",
       "      <td>...</td>\n",
       "      <td>...</td>\n",
       "      <td>...</td>\n",
       "    </tr>\n",
       "    <tr>\n",
       "      <th>13995</th>\n",
       "      <td>66.4</td>\n",
       "      <td>0.0</td>\n",
       "      <td>1</td>\n",
       "      <td>0</td>\n",
       "      <td>45998</td>\n",
       "      <td>51019.41</td>\n",
       "      <td>5</td>\n",
       "      <td>3</td>\n",
       "      <td>1</td>\n",
       "      <td>1</td>\n",
       "      <td>0</td>\n",
       "      <td>0</td>\n",
       "      <td>0</td>\n",
       "      <td>1</td>\n",
       "      <td>0</td>\n",
       "      <td>0</td>\n",
       "    </tr>\n",
       "    <tr>\n",
       "      <th>13996</th>\n",
       "      <td>39.7</td>\n",
       "      <td>1.0</td>\n",
       "      <td>1</td>\n",
       "      <td>0</td>\n",
       "      <td>63997</td>\n",
       "      <td>50547.92</td>\n",
       "      <td>5</td>\n",
       "      <td>2</td>\n",
       "      <td>1</td>\n",
       "      <td>4</td>\n",
       "      <td>0</td>\n",
       "      <td>1</td>\n",
       "      <td>0</td>\n",
       "      <td>0</td>\n",
       "      <td>0</td>\n",
       "      <td>0</td>\n",
       "    </tr>\n",
       "    <tr>\n",
       "      <th>13997</th>\n",
       "      <td>56.2</td>\n",
       "      <td>1.0</td>\n",
       "      <td>0</td>\n",
       "      <td>1</td>\n",
       "      <td>10000</td>\n",
       "      <td>48895.86</td>\n",
       "      <td>5</td>\n",
       "      <td>7</td>\n",
       "      <td>1</td>\n",
       "      <td>3</td>\n",
       "      <td>0</td>\n",
       "      <td>0</td>\n",
       "      <td>0</td>\n",
       "      <td>1</td>\n",
       "      <td>0</td>\n",
       "      <td>0</td>\n",
       "    </tr>\n",
       "    <tr>\n",
       "      <th>13998</th>\n",
       "      <td>41.7</td>\n",
       "      <td>1.0</td>\n",
       "      <td>0</td>\n",
       "      <td>1</td>\n",
       "      <td>63997</td>\n",
       "      <td>49234.60</td>\n",
       "      <td>5</td>\n",
       "      <td>3</td>\n",
       "      <td>1</td>\n",
       "      <td>3</td>\n",
       "      <td>1</td>\n",
       "      <td>0</td>\n",
       "      <td>0</td>\n",
       "      <td>0</td>\n",
       "      <td>0</td>\n",
       "      <td>0</td>\n",
       "    </tr>\n",
       "    <tr>\n",
       "      <th>13999</th>\n",
       "      <td>43.8</td>\n",
       "      <td>0.0</td>\n",
       "      <td>1</td>\n",
       "      <td>0</td>\n",
       "      <td>45998</td>\n",
       "      <td>48146.47</td>\n",
       "      <td>3</td>\n",
       "      <td>3</td>\n",
       "      <td>1</td>\n",
       "      <td>3</td>\n",
       "      <td>0</td>\n",
       "      <td>0</td>\n",
       "      <td>1</td>\n",
       "      <td>0</td>\n",
       "      <td>0</td>\n",
       "      <td>0</td>\n",
       "    </tr>\n",
       "  </tbody>\n",
       "</table>\n",
       "<p>14000 rows × 16 columns</p>\n",
       "</div>"
      ],
      "text/plain": [
       "       Current Evaluation Model of Likelihood to Leave  EmployeeLeft  \\\n",
       "0                                                 38.3           1.0   \n",
       "1                                                 38.0           1.0   \n",
       "2                                                 32.5           0.0   \n",
       "3                                                 36.5           0.0   \n",
       "4                                                 51.3           1.0   \n",
       "...                                                ...           ...   \n",
       "13995                                             66.4           0.0   \n",
       "13996                                             39.7           1.0   \n",
       "13997                                             56.2           1.0   \n",
       "13998                                             41.7           1.0   \n",
       "13999                                             43.8           0.0   \n",
       "\n",
       "       Hired through SMTP  Marked for PHT Program  Recruiting Location Code  \\\n",
       "0                       0                       1                     27999   \n",
       "1                       0                       0                     81996   \n",
       "2                       1                       1                     10000   \n",
       "3                       1                       1                     10000   \n",
       "4                       0                       0                     45998   \n",
       "...                   ...                     ...                       ...   \n",
       "13995                   1                       0                     45998   \n",
       "13996                   1                       0                     63997   \n",
       "13997                   0                       1                     10000   \n",
       "13998                   0                       1                     63997   \n",
       "13999                   1                       0                     45998   \n",
       "\n",
       "         Salary  Survey, Relative, Attitude toward Environment  \\\n",
       "0      41675.71                                              3   \n",
       "1      45810.49                                              4   \n",
       "2      51701.41                                              3   \n",
       "3      40169.06                                              2   \n",
       "4      55204.27                                              5   \n",
       "...         ...                                            ...   \n",
       "13995  51019.41                                              5   \n",
       "13996  50547.92                                              5   \n",
       "13997  48895.86                                              5   \n",
       "13998  49234.60                                              5   \n",
       "13999  48146.47                                              3   \n",
       "\n",
       "       Survey, Relative, Attitude toward Peers  \\\n",
       "0                                            5   \n",
       "1                                            3   \n",
       "2                                            1   \n",
       "3                                            8   \n",
       "4                                            2   \n",
       "...                                        ...   \n",
       "13995                                        3   \n",
       "13996                                        2   \n",
       "13997                                        7   \n",
       "13998                                        3   \n",
       "13999                                        3   \n",
       "\n",
       "       Survey, Relative, Peer's Average Attitude toward Peers  \\\n",
       "0                                                      7        \n",
       "1                                                      1        \n",
       "2                                                      1        \n",
       "3                                                      4        \n",
       "4                                                      1        \n",
       "...                                                  ...        \n",
       "13995                                                  1        \n",
       "13996                                                  1        \n",
       "13997                                                  1        \n",
       "13998                                                  1        \n",
       "13999                                                  1        \n",
       "\n",
       "       Survey, Relative, Peer's Average Attitude toward Work/Life Balance  \\\n",
       "0                                                      5                    \n",
       "1                                                      2                    \n",
       "2                                                      3                    \n",
       "3                                                      4                    \n",
       "4                                                      4                    \n",
       "...                                                  ...                    \n",
       "13995                                                  1                    \n",
       "13996                                                  4                    \n",
       "13997                                                  3                    \n",
       "13998                                                  3                    \n",
       "13999                                                  3                    \n",
       "\n",
       "       University_COMSATS Institute of Information Technology  \\\n",
       "0                                                      0        \n",
       "1                                                      0        \n",
       "2                                                      0        \n",
       "3                                                      0        \n",
       "4                                                      0        \n",
       "...                                                  ...        \n",
       "13995                                                  0        \n",
       "13996                                                  0        \n",
       "13997                                                  0        \n",
       "13998                                                  1        \n",
       "13999                                                  0        \n",
       "\n",
       "       University_Enugu State University of Science and Technology  \\\n",
       "0                                                      0             \n",
       "1                                                      0             \n",
       "2                                                      0             \n",
       "3                                                      1             \n",
       "4                                                      0             \n",
       "...                                                  ...             \n",
       "13995                                                  0             \n",
       "13996                                                  1             \n",
       "13997                                                  0             \n",
       "13998                                                  0             \n",
       "13999                                                  0             \n",
       "\n",
       "       University_NHTV Breda University of Professional Education  \\\n",
       "0                                                      0            \n",
       "1                                                      0            \n",
       "2                                                      0            \n",
       "3                                                      0            \n",
       "4                                                      0            \n",
       "...                                                  ...            \n",
       "13995                                                  0            \n",
       "13996                                                  0            \n",
       "13997                                                  0            \n",
       "13998                                                  0            \n",
       "13999                                                  1            \n",
       "\n",
       "       University_Nazarene Bible College  University_St. Norbert College  \\\n",
       "0                                      0                               1   \n",
       "1                                      0                               1   \n",
       "2                                      0                               1   \n",
       "3                                      0                               0   \n",
       "4                                      0                               1   \n",
       "...                                  ...                             ...   \n",
       "13995                                  1                               0   \n",
       "13996                                  0                               0   \n",
       "13997                                  1                               0   \n",
       "13998                                  0                               0   \n",
       "13999                                  0                               0   \n",
       "\n",
       "       University_Université de Corse Pascal Paoli  \n",
       "0                                                0  \n",
       "1                                                0  \n",
       "2                                                0  \n",
       "3                                                0  \n",
       "4                                                0  \n",
       "...                                            ...  \n",
       "13995                                            0  \n",
       "13996                                            0  \n",
       "13997                                            0  \n",
       "13998                                            0  \n",
       "13999                                            0  \n",
       "\n",
       "[14000 rows x 16 columns]"
      ]
     },
     "execution_count": 18,
     "metadata": {},
     "output_type": "execute_result"
    }
   ],
   "source": [
    "df"
   ]
  },
  {
   "cell_type": "code",
   "execution_count": 19,
   "metadata": {},
   "outputs": [],
   "source": [
    "y = df.iloc[:,1]\n",
    "X = df.iloc[:,:15]"
   ]
  },
  {
   "cell_type": "code",
   "execution_count": 20,
   "metadata": {},
   "outputs": [],
   "source": [
    "X = X.drop(columns=['EmployeeLeft'])"
   ]
  },
  {
   "cell_type": "code",
   "execution_count": 21,
   "metadata": {},
   "outputs": [],
   "source": [
    "import sklearn as sk\n",
    "from sklearn.linear_model import LogisticRegression"
   ]
  },
  {
   "cell_type": "code",
   "execution_count": 22,
   "metadata": {},
   "outputs": [
    {
     "data": {
      "text/plain": [
       "0.5484"
      ]
     },
     "execution_count": 22,
     "metadata": {},
     "output_type": "execute_result"
    }
   ],
   "source": [
    "LR = LogisticRegression(random_state=0, solver='lbfgs', multi_class='ovr').fit(X, y)\n",
    "LR.predict(X.iloc[460:,:])\n",
    "round(LR.score(X,y), 4)"
   ]
  },
  {
   "cell_type": "code",
   "execution_count": 23,
   "metadata": {},
   "outputs": [],
   "source": [
    "from sklearn import svm"
   ]
  },
  {
   "cell_type": "code",
   "execution_count": 24,
   "metadata": {},
   "outputs": [
    {
     "name": "stderr",
     "output_type": "stream",
     "text": [
      "/anaconda/envs/azureml_py36/lib/python3.6/site-packages/sklearn/svm/_base.py:947: ConvergenceWarning: Liblinear failed to converge, increase the number of iterations.\n",
      "  \"the number of iterations.\", ConvergenceWarning)\n"
     ]
    },
    {
     "data": {
      "text/plain": [
       "0.439"
      ]
     },
     "execution_count": 24,
     "metadata": {},
     "output_type": "execute_result"
    }
   ],
   "source": [
    "SVM = svm.LinearSVC()\n",
    "SVM.fit(X, y)\n",
    "SVM.predict(X.iloc[460:,:])\n",
    "round(SVM.score(X,y), 4)"
   ]
  },
  {
   "cell_type": "code",
   "execution_count": 25,
   "metadata": {},
   "outputs": [],
   "source": [
    "from sklearn.ensemble import RandomForestClassifier"
   ]
  },
  {
   "cell_type": "code",
   "execution_count": 26,
   "metadata": {},
   "outputs": [
    {
     "data": {
      "text/plain": [
       "0.7742"
      ]
     },
     "execution_count": 26,
     "metadata": {},
     "output_type": "execute_result"
    }
   ],
   "source": [
    "RF = RandomForestClassifier(n_estimators=100, max_depth=2, random_state=0)\n",
    "RF.fit(X, y)\n",
    "RF.predict(X.iloc[460:,:])\n",
    "round(RF.score(X,y), 4)"
   ]
  },
  {
   "cell_type": "code",
   "execution_count": 27,
   "metadata": {},
   "outputs": [],
   "source": [
    "from sklearn.neural_network import MLPClassifier"
   ]
  },
  {
   "cell_type": "code",
   "execution_count": 28,
   "metadata": {},
   "outputs": [
    {
     "data": {
      "text/plain": [
       "0.439"
      ]
     },
     "execution_count": 28,
     "metadata": {},
     "output_type": "execute_result"
    }
   ],
   "source": [
    "NN = MLPClassifier(solver='lbfgs', alpha=1e-5, hidden_layer_sizes=(5, 2), random_state=1)\n",
    "NN.fit(X, y)\n",
    "NN.predict(X.iloc[460:,:])\n",
    "round(NN.score(X,y), 4)"
   ]
  },
  {
   "cell_type": "code",
   "execution_count": 30,
   "metadata": {},
   "outputs": [],
   "source": [
    "from fairlearn.reductions import GridSearch\n",
    "from fairlearn.reductions import DemographicParity\n",
    "\n",
    "import numpy as np\n",
    "import pandas as pd\n",
    "from sklearn.linear_model import LogisticRegression"
   ]
  },
  {
   "cell_type": "code",
   "execution_count": 33,
   "metadata": {},
   "outputs": [],
   "source": [
    "import matplotlib.pyplot as plt\n",
    "def plot_data(Xs, Ys):\n",
    "    labels = np.unique(Xs[\"example_sensitive_feature\"])\n",
    "    \n",
    "    for l in labels:\n",
    "        label_string = str(l.item())\n",
    "        mask = Xs[\"example_sensitive_feature\"] == l\n",
    "        plt.scatter(Xs[mask].credit_score_feature, Ys[mask], label=str(\"Label=\"+label_string))\n",
    "        plt.xlabel(\"Credit Score\")\n",
    "        plt.ylabel(\"Got Loan\")\n",
    "        \n",
    "    plt.legend()\n",
    "    plt.show()"
   ]
  },
  {
   "cell_type": "code",
   "execution_count": 34,
   "metadata": {},
   "outputs": [
    {
     "data": {
      "text/plain": [
       "array([[-1.55239092e-02, -8.77412678e-02, -1.08050011e-01,\n",
       "        -7.98036004e-06, -3.02520153e-05,  4.46758779e-01,\n",
       "        -8.92249481e-02, -5.48793571e-02,  4.96085189e-01,\n",
       "        -3.75936786e-02,  1.44134814e-02, -2.51975946e-02,\n",
       "        -3.55894549e-02,  1.18114718e-01]])"
      ]
     },
     "execution_count": 34,
     "metadata": {},
     "output_type": "execute_result"
    }
   ],
   "source": [
    "unfair_model = LogisticRegression(solver='liblinear', fit_intercept=True)\n",
    "unfair_model.fit(X, y, sample_weight=np.ones(len(y)))\n",
    "\n",
    "unfair_model.coef_"
   ]
  },
  {
   "cell_type": "code",
   "execution_count": null,
   "metadata": {},
   "outputs": [],
   "source": [
    "Y_predict_unfair = unfair_model.predict(X)\n",
    "plot_data(X, Y_predict_unfair)"
   ]
  },
  {
   "cell_type": "code",
   "execution_count": 36,
   "metadata": {},
   "outputs": [],
   "source": [
    "first_sweep=GridSearch(LogisticRegression(solver='liblinear', fit_intercept=True),\n",
    "                       constraints=DemographicParity(),\n",
    "                       grid_size=7)\n",
    "\n",
    "first_sweep.fit(X, y, sensitive_features=y)"
   ]
  },
  {
   "cell_type": "code",
   "execution_count": 37,
   "metadata": {},
   "outputs": [
    {
     "data": {
      "text/plain": [
       "sign  event  group_id\n",
       "+     all    0.0         0.0\n",
       "             1.0         0.0\n",
       "-     all    0.0         0.0\n",
       "             1.0         2.0\n",
       "Name: 0, dtype: float64"
      ]
     },
     "execution_count": 37,
     "metadata": {},
     "output_type": "execute_result"
    }
   ],
   "source": [
    "lambda_vecs = first_sweep._lambda_vecs\n",
    "lambda_vecs[0]"
   ]
  },
  {
   "cell_type": "code",
   "execution_count": null,
   "metadata": {},
   "outputs": [],
   "source": [
    "actual_multipliers = [lambda_vecs[col][(\"+\", \"all\", 2)]-lambda_vecs[col][(\"-\", \"all\", 2)] for col in lambda_vecs]\n",
    "actual_multipliers"
   ]
  },
  {
   "cell_type": "code",
   "execution_count": null,
   "metadata": {},
   "outputs": [],
   "source": [
    "first_sweep_sensitive_feature_weights = [\n",
    "            predictor.coef_[0][1] for predictor in first_sweep._predictors]\n",
    "plt.scatter(actual_multipliers, first_sweep_sensitive_feature_weights)\n",
    "plt.xlabel(\"Lagrange Multiplier\")\n",
    "plt.ylabel(\"Weight of Protected Attribute in Model\")\n",
    "plt.show()"
   ]
  },
  {
   "cell_type": "code",
   "execution_count": null,
   "metadata": {},
   "outputs": [],
   "source": []
  },
  {
   "cell_type": "code",
   "execution_count": null,
   "metadata": {},
   "outputs": [],
   "source": []
  },
  {
   "cell_type": "code",
   "execution_count": 41,
   "metadata": {},
   "outputs": [],
   "source": [
    "from sklearn.model_selection import GridSearchCV"
   ]
  },
  {
   "cell_type": "code",
   "execution_count": 42,
   "metadata": {},
   "outputs": [],
   "source": [
    "parameters = {'kernel':('linear', 'rbf'), 'C':[1, 10]}"
   ]
  },
  {
   "cell_type": "code",
   "execution_count": 43,
   "metadata": {},
   "outputs": [],
   "source": [
    "svc = svm.SVC()"
   ]
  },
  {
   "cell_type": "code",
   "execution_count": 44,
   "metadata": {},
   "outputs": [],
   "source": [
    "clf = GridSearchCV(svc, parameters)"
   ]
  },
  {
   "cell_type": "code",
   "execution_count": 45,
   "metadata": {},
   "outputs": [],
   "source": [
    "#SVM.fit(X, y)"
   ]
  },
  {
   "cell_type": "code",
   "execution_count": null,
   "metadata": {},
   "outputs": [],
   "source": [
    "clf.fit(X, y)"
   ]
  },
  {
   "cell_type": "code",
   "execution_count": null,
   "metadata": {},
   "outputs": [],
   "source": [
    "sorted(clf.cv_results_.keys())"
   ]
  },
  {
   "cell_type": "code",
   "execution_count": null,
   "metadata": {},
   "outputs": [],
   "source": [
    "import sklearn.metrics as skm"
   ]
  },
  {
   "cell_type": "code",
   "execution_count": null,
   "metadata": {},
   "outputs": [],
   "source": []
  },
  {
   "cell_type": "code",
   "execution_count": null,
   "metadata": {},
   "outputs": [],
   "source": []
  },
  {
   "cell_type": "code",
   "execution_count": 29,
   "metadata": {},
   "outputs": [],
   "source": [
    "#from fairlearn.metrics import MetricFrame\n",
    "from sklearn.metrics import accuracy_score\n",
    "from sklearn.tree import DecisionTreeClassifier"
   ]
  },
  {
   "cell_type": "code",
   "execution_count": 30,
   "metadata": {},
   "outputs": [],
   "source": [
    "from fairlearn.metrics import selection_rate"
   ]
  },
  {
   "cell_type": "code",
   "execution_count": 31,
   "metadata": {},
   "outputs": [
    {
     "ename": "ImportError",
     "evalue": "cannot import name 'MetricFrame'",
     "output_type": "error",
     "traceback": [
      "\u001b[0;31m---------------------------------------------------------------------------\u001b[0m",
      "\u001b[0;31mImportError\u001b[0m                               Traceback (most recent call last)",
      "\u001b[0;32m<ipython-input-31-f75c64078831>\u001b[0m in \u001b[0;36m<module>\u001b[0;34m\u001b[0m\n\u001b[0;32m----> 1\u001b[0;31m \u001b[0;32mfrom\u001b[0m \u001b[0mfairlearn\u001b[0m\u001b[0;34m.\u001b[0m\u001b[0mmetrics\u001b[0m \u001b[0;32mimport\u001b[0m \u001b[0mMetricFrame\u001b[0m\u001b[0;34m\u001b[0m\u001b[0;34m\u001b[0m\u001b[0m\n\u001b[0m",
      "\u001b[0;31mImportError\u001b[0m: cannot import name 'MetricFrame'"
     ]
    }
   ],
   "source": [
    "from fairlearn.metrics import MetricFrame"
   ]
  },
  {
   "cell_type": "code",
   "execution_count": 32,
   "metadata": {},
   "outputs": [
    {
     "data": {
      "text/plain": [
       "DecisionTreeClassifier(ccp_alpha=0.0, class_weight=None, criterion='gini',\n",
       "                       max_depth=4, max_features=None, max_leaf_nodes=None,\n",
       "                       min_impurity_decrease=0.0, min_impurity_split=None,\n",
       "                       min_samples_leaf=10, min_samples_split=2,\n",
       "                       min_weight_fraction_leaf=0.0, presort='deprecated',\n",
       "                       random_state=None, splitter='best')"
      ]
     },
     "execution_count": 32,
     "metadata": {},
     "output_type": "execute_result"
    }
   ],
   "source": [
    "classifier = DecisionTreeClassifier(min_samples_leaf=10, max_depth=4)\n",
    "classifier.fit(X, y)"
   ]
  },
  {
   "cell_type": "code",
   "execution_count": 33,
   "metadata": {},
   "outputs": [],
   "source": [
    "y_pred = classifier.predict(X)"
   ]
  },
  {
   "cell_type": "code",
   "execution_count": 34,
   "metadata": {},
   "outputs": [
    {
     "ename": "NameError",
     "evalue": "name 'MetricFrame' is not defined",
     "output_type": "error",
     "traceback": [
      "\u001b[0;31m---------------------------------------------------------------------------\u001b[0m",
      "\u001b[0;31mNameError\u001b[0m                                 Traceback (most recent call last)",
      "\u001b[0;32m<ipython-input-34-8394a21319d1>\u001b[0m in \u001b[0;36m<module>\u001b[0;34m\u001b[0m\n\u001b[0;32m----> 1\u001b[0;31m \u001b[0mgm\u001b[0m \u001b[0;34m=\u001b[0m \u001b[0mMetricFrame\u001b[0m\u001b[0;34m(\u001b[0m\u001b[0maccuracy_score\u001b[0m\u001b[0;34m,\u001b[0m \u001b[0my\u001b[0m\u001b[0;34m,\u001b[0m \u001b[0my_pred\u001b[0m\u001b[0;34m,\u001b[0m \u001b[0msensitive_features\u001b[0m\u001b[0;34m=\u001b[0m\u001b[0msex\u001b[0m\u001b[0;34m)\u001b[0m\u001b[0;34m\u001b[0m\u001b[0;34m\u001b[0m\u001b[0m\n\u001b[0m",
      "\u001b[0;31mNameError\u001b[0m: name 'MetricFrame' is not defined"
     ]
    }
   ],
   "source": [
    "gm = MetricFrame(accuracy_score, y, y_pred, sensitive_features=sex)"
   ]
  },
  {
   "cell_type": "code",
   "execution_count": 35,
   "metadata": {},
   "outputs": [
    {
     "ename": "NameError",
     "evalue": "name 'EmployeeLeft' is not defined",
     "output_type": "error",
     "traceback": [
      "\u001b[0;31m---------------------------------------------------------------------------\u001b[0m",
      "\u001b[0;31mNameError\u001b[0m                                 Traceback (most recent call last)",
      "\u001b[0;32m<ipython-input-35-0617dffbba72>\u001b[0m in \u001b[0;36m<module>\u001b[0;34m\u001b[0m\n\u001b[1;32m      1\u001b[0m \u001b[0;32mfrom\u001b[0m \u001b[0mfairlearn\u001b[0m\u001b[0;34m.\u001b[0m\u001b[0mwidget\u001b[0m \u001b[0;32mimport\u001b[0m \u001b[0mFairlearnDashboard\u001b[0m\u001b[0;34m\u001b[0m\u001b[0;34m\u001b[0m\u001b[0m\n\u001b[0;32m----> 2\u001b[0;31m FairlearnDashboard(sensitive_features=EmployeeLeft,\n\u001b[0m\u001b[1;32m      3\u001b[0m                    \u001b[0msensitive_feature_names\u001b[0m\u001b[0;34m=\u001b[0m\u001b[0;34m[\u001b[0m\u001b[0;34m'EmployeeLeft'\u001b[0m\u001b[0;34m]\u001b[0m\u001b[0;34m,\u001b[0m\u001b[0;34m\u001b[0m\u001b[0;34m\u001b[0m\u001b[0m\n\u001b[1;32m      4\u001b[0m                    \u001b[0my_true\u001b[0m\u001b[0;34m=\u001b[0m\u001b[0my\u001b[0m\u001b[0;34m,\u001b[0m\u001b[0;34m\u001b[0m\u001b[0;34m\u001b[0m\u001b[0m\n\u001b[1;32m      5\u001b[0m                    y_pred={\"initial model\": y_pred}) \n",
      "\u001b[0;31mNameError\u001b[0m: name 'EmployeeLeft' is not defined"
     ]
    }
   ],
   "source": [
    "from fairlearn.widget import FairlearnDashboard\n",
    "FairlearnDashboard(sensitive_features=EmployeeLeft,\n",
    "                   sensitive_feature_names=['EmployeeLeft'],\n",
    "                   y_true=y,\n",
    "                   y_pred={\"initial model\": y_pred}) "
   ]
  },
  {
   "cell_type": "code",
   "execution_count": 36,
   "metadata": {},
   "outputs": [],
   "source": [
    "from fairlearn.widget import FairlearnDashboard\n",
    "from sklearn.model_selection import train_test_split\n",
    "from fairlearn.reductions import GridSearch\n",
    "from fairlearn.reductions import DemographicParity, ErrorRate\n",
    "\n",
    "from sklearn.preprocessing import LabelEncoder, StandardScaler\n",
    "from sklearn.linear_model import LogisticRegression\n",
    "import pandas as pd"
   ]
  },
  {
   "cell_type": "code",
   "execution_count": 38,
   "metadata": {},
   "outputs": [],
   "source": [
    "A = df[\"EmployeeLeft\"]"
   ]
  },
  {
   "cell_type": "code",
   "execution_count": 41,
   "metadata": {},
   "outputs": [],
   "source": [
    "X_train, X_test, Y_train, Y_test, A_train, A_test = train_test_split(X,\n",
    "                                                                     y,\n",
    "                                                                     A,\n",
    "                                                                     test_size=0.2,\n",
    "                                                                     random_state=0,\n",
    "                                                                     stratify=y)\n",
    "\n",
    "# Work around indexing bug\n",
    "X_train = X_train.reset_index(drop=True)\n",
    "A_train = A_train.reset_index(drop=True)\n",
    "X_test = X_test.reset_index(drop=True)\n",
    "A_test = A_test.reset_index(drop=True)\n"
   ]
  },
  {
   "cell_type": "code",
   "execution_count": 42,
   "metadata": {},
   "outputs": [
    {
     "data": {
      "text/plain": [
       "LogisticRegression(C=1.0, class_weight=None, dual=False, fit_intercept=True,\n",
       "                   intercept_scaling=1, l1_ratio=None, max_iter=100,\n",
       "                   multi_class='auto', n_jobs=None, penalty='l2',\n",
       "                   random_state=None, solver='liblinear', tol=0.0001, verbose=0,\n",
       "                   warm_start=False)"
      ]
     },
     "execution_count": 42,
     "metadata": {},
     "output_type": "execute_result"
    }
   ],
   "source": [
    "unmitigated_predictor = LogisticRegression(solver='liblinear', fit_intercept=True)\n",
    "\n",
    "unmitigated_predictor.fit(X_train, Y_train)"
   ]
  },
  {
   "cell_type": "code",
   "execution_count": 43,
   "metadata": {},
   "outputs": [
    {
     "data": {
      "application/vnd.jupyter.widget-view+json": {
       "model_id": "d00b946f691847d6bdad5c64c3b18551",
       "version_major": 2,
       "version_minor": 0
      },
      "text/plain": [
       "FairlearnWidget(value={'true_y': [1.0, 0.0, 0.0, 1.0, 1.0, 0.0, 0.0, 0.0, 1.0, 1.0, 1.0, 1.0, 0.0, 1.0, 1.0, 0…"
      ]
     },
     "metadata": {},
     "output_type": "display_data"
    },
    {
     "data": {
      "text/plain": [
       "<fairlearn.widget._fairlearn_dashboard.FairlearnDashboard at 0x7f34a80778d0>"
      ]
     },
     "execution_count": 43,
     "metadata": {},
     "output_type": "execute_result"
    }
   ],
   "source": [
    "FairlearnDashboard(sensitive_features=A_test, sensitive_feature_names=['EmployeeLeft'],\n",
    "                   y_true=Y_test,\n",
    "                   y_pred={\"unmitigated\": unmitigated_predictor.predict(X_test)})"
   ]
  },
  {
   "cell_type": "code",
   "execution_count": null,
   "metadata": {},
   "outputs": [],
   "source": [
    "skm.recall_score(Y_test, Y_pred)"
   ]
  },
  {
   "cell_type": "code",
   "execution_count": 44,
   "metadata": {},
   "outputs": [],
   "source": [
    "sweep = GridSearch(LogisticRegression(solver='liblinear', fit_intercept=True),\n",
    "                   constraints=DemographicParity(),\n",
    "                   grid_size=71)"
   ]
  },
  {
   "cell_type": "code",
   "execution_count": 45,
   "metadata": {},
   "outputs": [
    {
     "ename": "AttributeError",
     "evalue": "'GridSearch' object has no attribute 'predictors_'",
     "output_type": "error",
     "traceback": [
      "\u001b[0;31m---------------------------------------------------------------------------\u001b[0m",
      "\u001b[0;31mAttributeError\u001b[0m                            Traceback (most recent call last)",
      "\u001b[0;32m<ipython-input-45-cb592bed5a23>\u001b[0m in \u001b[0;36m<module>\u001b[0;34m\u001b[0m\n\u001b[1;32m      2\u001b[0m           sensitive_features=A_train)\n\u001b[1;32m      3\u001b[0m \u001b[0;34m\u001b[0m\u001b[0m\n\u001b[0;32m----> 4\u001b[0;31m \u001b[0mpredictors\u001b[0m \u001b[0;34m=\u001b[0m \u001b[0msweep\u001b[0m\u001b[0;34m.\u001b[0m\u001b[0mpredictors_\u001b[0m\u001b[0;34m\u001b[0m\u001b[0;34m\u001b[0m\u001b[0m\n\u001b[0m",
      "\u001b[0;31mAttributeError\u001b[0m: 'GridSearch' object has no attribute 'predictors_'"
     ]
    }
   ],
   "source": [
    "sweep.fit(X_train, Y_train,\n",
    "          sensitive_features=A_train)\n",
    "\n",
    "#predictors = sweep.predictors"
   ]
  },
  {
   "cell_type": "code",
   "execution_count": 47,
   "metadata": {},
   "outputs": [
    {
     "ename": "AttributeError",
     "evalue": "'GridSearch' object has no attribute 'predictors_'",
     "output_type": "error",
     "traceback": [
      "\u001b[0;31m---------------------------------------------------------------------------\u001b[0m",
      "\u001b[0;31mAttributeError\u001b[0m                            Traceback (most recent call last)",
      "\u001b[0;32m<ipython-input-47-49c8aaf5d801>\u001b[0m in \u001b[0;36m<module>\u001b[0;34m\u001b[0m\n\u001b[0;32m----> 1\u001b[0;31m \u001b[0mpredictors\u001b[0m \u001b[0;34m=\u001b[0m \u001b[0msweep\u001b[0m\u001b[0;34m.\u001b[0m\u001b[0mpredictors_\u001b[0m\u001b[0;34m\u001b[0m\u001b[0;34m\u001b[0m\u001b[0m\n\u001b[0m",
      "\u001b[0;31mAttributeError\u001b[0m: 'GridSearch' object has no attribute 'predictors_'"
     ]
    }
   ],
   "source": [
    "predictors = sweep.predictors_"
   ]
  },
  {
   "cell_type": "code",
   "execution_count": 48,
   "metadata": {},
   "outputs": [
    {
     "ename": "NameError",
     "evalue": "name 'predictors' is not defined",
     "output_type": "error",
     "traceback": [
      "\u001b[0;31m---------------------------------------------------------------------------\u001b[0m",
      "\u001b[0;31mNameError\u001b[0m                                 Traceback (most recent call last)",
      "\u001b[0;32m<ipython-input-48-564ce898fe14>\u001b[0m in \u001b[0;36m<module>\u001b[0;34m\u001b[0m\n\u001b[1;32m      1\u001b[0m \u001b[0merrors\u001b[0m\u001b[0;34m,\u001b[0m \u001b[0mdisparities\u001b[0m \u001b[0;34m=\u001b[0m \u001b[0;34m[\u001b[0m\u001b[0;34m]\u001b[0m\u001b[0;34m,\u001b[0m \u001b[0;34m[\u001b[0m\u001b[0;34m]\u001b[0m\u001b[0;34m\u001b[0m\u001b[0;34m\u001b[0m\u001b[0m\n\u001b[0;32m----> 2\u001b[0;31m \u001b[0;32mfor\u001b[0m \u001b[0mm\u001b[0m \u001b[0;32min\u001b[0m \u001b[0mpredictors\u001b[0m\u001b[0;34m:\u001b[0m\u001b[0;34m\u001b[0m\u001b[0;34m\u001b[0m\u001b[0m\n\u001b[0m\u001b[1;32m      3\u001b[0m     \u001b[0;32mdef\u001b[0m \u001b[0mclassifier\u001b[0m\u001b[0;34m(\u001b[0m\u001b[0mX\u001b[0m\u001b[0;34m)\u001b[0m\u001b[0;34m:\u001b[0m \u001b[0;32mreturn\u001b[0m \u001b[0mm\u001b[0m\u001b[0;34m.\u001b[0m\u001b[0mpredict\u001b[0m\u001b[0;34m(\u001b[0m\u001b[0mX\u001b[0m\u001b[0;34m)\u001b[0m\u001b[0;34m\u001b[0m\u001b[0;34m\u001b[0m\u001b[0m\n\u001b[1;32m      4\u001b[0m \u001b[0;34m\u001b[0m\u001b[0m\n\u001b[1;32m      5\u001b[0m     \u001b[0merror\u001b[0m \u001b[0;34m=\u001b[0m \u001b[0mErrorRate\u001b[0m\u001b[0;34m(\u001b[0m\u001b[0;34m)\u001b[0m\u001b[0;34m\u001b[0m\u001b[0;34m\u001b[0m\u001b[0m\n",
      "\u001b[0;31mNameError\u001b[0m: name 'predictors' is not defined"
     ]
    }
   ],
   "source": [
    "errors, disparities = [], []\n",
    "for m in predictors:\n",
    "    def classifier(X): return m.predict(X)\n",
    "\n",
    "    error = ErrorRate()\n",
    "    error.load_data(X_train, pd.Series(Y_train), sensitive_features=A_train)\n",
    "    disparity = DemographicParity()\n",
    "    disparity.load_data(X_train, pd.Series(Y_train), sensitive_features=A_train)\n",
    "\n",
    "    errors.append(error.gamma(classifier)[0])\n",
    "    disparities.append(disparity.gamma(classifier).max())\n",
    "\n",
    "all_results = pd.DataFrame({\"predictor\": predictors, \"error\": errors, \"disparity\": disparities})\n",
    "\n",
    "non_dominated = []\n",
    "for row in all_results.itertuples():\n",
    "    errors_for_lower_or_eq_disparity = all_results[\"error\"][all_results[\"disparity\"] <= row.disparity]\n",
    "    if row.error <= errors_for_lower_or_eq_disparity.min():\n",
    "        non_dominated.append(row.predictor)"
   ]
  },
  {
   "cell_type": "code",
   "execution_count": null,
   "metadata": {},
   "outputs": [],
   "source": [
    "dashboard_predicted = {\"unmitigated\": unmitigated_predictor.predict(X_test)}\n",
    "for i in range(len(non_dominated)):\n",
    "    key = \"dominant_model_{0}\".format(i)\n",
    "    value = non_dominated[i].predict(X_test)\n",
    "    dashboard_predicted[key] = value\n",
    "\n",
    "\n",
    "FairlearnDashboard(sensitive_features=A_test, sensitive_feature_names=['sex'],\n",
    "                   y_true=Y_test,\n",
    "                   y_pred=dashboard_predicted)"
   ]
  },
  {
   "cell_type": "code",
   "execution_count": null,
   "metadata": {},
   "outputs": [],
   "source": []
  }
 ],
 "metadata": {
  "kernelspec": {
   "display_name": "Python 3.6 - AzureML",
   "language": "python",
   "name": "python3-azureml"
  },
  "language_info": {
   "codemirror_mode": {
    "name": "ipython",
    "version": 3
   },
   "file_extension": ".py",
   "mimetype": "text/x-python",
   "name": "python",
   "nbconvert_exporter": "python",
   "pygments_lexer": "ipython3",
   "version": "3.6.9"
  }
 },
 "nbformat": 4,
 "nbformat_minor": 4
}
